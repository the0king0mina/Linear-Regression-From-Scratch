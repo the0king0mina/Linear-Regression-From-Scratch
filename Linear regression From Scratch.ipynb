{
 "cells": [
  {
   "cell_type": "code",
   "execution_count": 3,
   "metadata": {},
   "outputs": [],
   "source": [
    "import numpy as np "
   ]
  },
  {
   "cell_type": "code",
   "execution_count": 4,
   "metadata": {},
   "outputs": [
    {
     "name": "stdout",
     "output_type": "stream",
     "text": [
      "Slope (m): 0.7\n",
      "Intercept (b): 1.9000000000000004\n",
      "Mean Squared Error: 1.0199999999999998\n"
     ]
    }
   ],
   "source": [
    "class LinearRegression:\n",
    "    def __init__(self):\n",
    "        self.m = 0  # Slope\n",
    "        self.b = 0  # Intercept\n",
    "    \n",
    "    def fit(self, X, y):\n",
    "        # Calculate the mean of X and y\n",
    "        X_mean = np.mean(X)\n",
    "        y_mean = np.mean(y)\n",
    "        \n",
    "        # Calculate the terms needed for the slope (m) and intercept (b)\n",
    "        numerator = np.sum((X - X_mean) * (y - y_mean))\n",
    "        denominator = np.sum((X - X_mean) ** 2)\n",
    "        \n",
    "        # Calculate slope (m)\n",
    "        self.m = numerator / denominator\n",
    "        \n",
    "        # Calculate intercept (b)\n",
    "        self.b = y_mean - self.m * X_mean\n",
    "    \n",
    "    def predict(self, X):\n",
    "        # Predict y values based on X\n",
    "        return self.m * X + self.b\n",
    "    \n",
    "    def mean_squared_error(self, y_true, y_pred):\n",
    "        # Calculate Mean Squared Error\n",
    "        return np.mean((y_true - y_pred) ** 2)\n",
    "\n",
    "# Example usage\n",
    "# Suppose we have some sample data\n",
    "X = np.array([1, 2, 3, 4, 5])\n",
    "y = np.array([3, 4, 2, 5, 6])\n",
    "\n",
    "# Create and fit the model\n",
    "model = LinearRegression()\n",
    "model.fit(X, y)\n",
    "\n",
    "# Make predictions\n",
    "y_pred = model.predict(X)\n",
    "\n",
    "# Calculate Mean Squared Error\n",
    "mse = model.mean_squared_error(y, y_pred)\n",
    "\n",
    "print(\"Slope (m):\", model.m)\n",
    "print(\"Intercept (b):\", model.b)\n",
    "print(\"Mean Squared Error:\", mse)\n",
    "\n",
    " \n"
   ]
  },
  {
   "cell_type": "code",
   "execution_count": null,
   "metadata": {},
   "outputs": [],
   "source": []
  }
 ],
 "metadata": {
  "kernelspec": {
   "display_name": "Python 3",
   "language": "python",
   "name": "python3"
  },
  "language_info": {
   "codemirror_mode": {
    "name": "ipython",
    "version": 3
   },
   "file_extension": ".py",
   "mimetype": "text/x-python",
   "name": "python",
   "nbconvert_exporter": "python",
   "pygments_lexer": "ipython3",
   "version": "3.11.4"
  }
 },
 "nbformat": 4,
 "nbformat_minor": 2
}
